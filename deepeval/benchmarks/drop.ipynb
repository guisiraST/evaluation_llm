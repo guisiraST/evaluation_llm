{
 "cells": [
  {
   "cell_type": "markdown",
   "metadata": {},
   "source": [
    "# DROP"
   ]
  },
  {
   "cell_type": "markdown",
   "metadata": {},
   "source": [
    "DROP (Discrete Reasoning Over Paragraphs) เป็นเกณฑ์มาตรฐานที่ออกแบบมาเพื่อประเมินความสามารถในการให้เหตุผลขั้นสูงของโมเดลภาษา ผ่านงานตอบคำถามที่ซับซ้อน ซึ่งประกอบด้วยความท้าทายมากกว่า 9500 ข้อ ที่ต้องใช้การคำนวณตัวเลข การให้เหตุผลหลายขั้นตอน และการตีความข้อมูลจากข้อความ\n",
    "\n",
    "### Arguments\n",
    "There are two optional arguments when using the DROP benchmark:\n",
    "\n",
    "- [Optional] tasks: a list of tasks (DROPTask enums), which specifies the subject areas for model evaluation. By default, this is set to all tasks. The list of DROPTask enums can be found here.\n",
    "- [Optional] n_shots: the number of \"shots\" to use for few-shot learning. This is set to 5 by default and cannot exceed 5."
   ]
  },
  {
   "cell_type": "code",
   "execution_count": null,
   "metadata": {},
   "outputs": [],
   "source": [
    "from langchain_openai import AzureChatOpenAI\n",
    "from deepeval.models.base_model import DeepEvalBaseLLM\n",
    "import sys\n",
    "sys.path.append('/opt/project/src/evaluate_llm/')\n",
    "from api_key_config import settings\n",
    "import os\n",
    "\n",
    "os.environ[\"OPENAI_API_VERSION\"] = settings.OPENAI_API_VERSION\n",
    "os.environ[\"OPENAI_API_KEY\"] = settings.OPENAI_API_KEY\n",
    "os.environ[\"AZURE_OPENAI_ENDPOINT\"] = settings.AZURE_OPENAI_ENDPOINT\n",
    "\n",
    "class AzureOpenAI(DeepEvalBaseLLM):\n",
    "    def __init__(\n",
    "        self,\n",
    "        model\n",
    "    ):\n",
    "        self.model = model\n",
    "\n",
    "    def load_model(self):\n",
    "        return self.model\n",
    "\n",
    "    def generate(self, prompt: str) -> str:\n",
    "        chat_model = self.load_model()\n",
    "        return chat_model.invoke(prompt).content\n",
    "\n",
    "    async def a_generate(self, prompt: str) -> str:\n",
    "        chat_model = self.load_model()\n",
    "        res = await chat_model.ainvoke(prompt)\n",
    "        return res.content\n",
    "\n",
    "    def get_model_name(self):\n",
    "        return \"Custom Azure OpenAI Model\"\n",
    "\n",
    "# Replace these with real values\n",
    "custom_model = AzureChatOpenAI(\n",
    "    deployment_name=\"gpt-35-turbo\",\n",
    ")\n",
    "azure_openai = AzureOpenAI(model=custom_model)"
   ]
  },
  {
   "cell_type": "code",
   "execution_count": null,
   "metadata": {},
   "outputs": [],
   "source": [
    "from deepeval.benchmarks import DROP\n",
    "from deepeval.benchmarks.tasks import DROPTask\n",
    "\n",
    "# Define benchmark with specific tasks and shots\n",
    "benchmark = DROP(\n",
    "    tasks=[DROPTask.HISTORY_1002, DROPTask.NFL_649],\n",
    "    n_shots=3\n",
    ")\n",
    "\n",
    "# Replace 'mistral_7b' with your own custom model\n",
    "benchmark.evaluate(model=mistral_7b)\n",
    "print(benchmark.overall_score)"
   ]
  }
 ],
 "metadata": {
  "language_info": {
   "name": "python"
  }
 },
 "nbformat": 4,
 "nbformat_minor": 2
}
