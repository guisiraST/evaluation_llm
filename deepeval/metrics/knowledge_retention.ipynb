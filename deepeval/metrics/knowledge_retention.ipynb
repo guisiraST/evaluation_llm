{
 "cells": [
  {
   "cell_type": "markdown",
   "metadata": {},
   "source": [
    "# Knowledge Retention"
   ]
  },
  {
   "cell_type": "markdown",
   "metadata": {},
   "source": [
    "Knowledge Retention ใช้สำหรับการประเมินเพื่อหาว่า LLM สามารถ เก็บข้อมูลตลอดการสนทนาได้หรือไม่"
   ]
  },
  {
   "cell_type": "code",
   "execution_count": 7,
   "metadata": {},
   "outputs": [
    {
     "name": "stderr",
     "output_type": "stream",
     "text": [
      "/usr/local/lib/python3.9/site-packages/deepeval/__init__.py:42: UserWarning: You are using deepeval version 0.21.42, however version 0.21.45 is available. You should consider upgrading via the \"pip install --upgrade deepeval\" command.\n",
      "  warnings.warn(\n"
     ]
    }
   ],
   "source": [
    "from langchain_openai import AzureChatOpenAI\n",
    "from deepeval.models.base_model import DeepEvalBaseLLM\n",
    "import sys\n",
    "sys.path.append('/opt/project/src/evaluate_llm/')\n",
    "from api_key_config import settings\n",
    "import os\n",
    "\n",
    "os.environ[\"OPENAI_API_VERSION\"] = settings.OPENAI_API_VERSION\n",
    "os.environ[\"OPENAI_API_KEY\"] = settings.OPENAI_API_KEY\n",
    "os.environ[\"AZURE_OPENAI_ENDPOINT\"] = settings.AZURE_OPENAI_ENDPOINT\n",
    "\n",
    "class AzureOpenAI(DeepEvalBaseLLM):\n",
    "    def __init__(\n",
    "        self,\n",
    "        model\n",
    "    ):\n",
    "        self.model = model\n",
    "\n",
    "    def load_model(self):\n",
    "        return self.model\n",
    "\n",
    "    def generate(self, prompt: str) -> str:\n",
    "        chat_model = self.load_model()\n",
    "        return chat_model.invoke(prompt).content\n",
    "\n",
    "    async def a_generate(self, prompt: str) -> str:\n",
    "        chat_model = self.load_model()\n",
    "        res = await chat_model.ainvoke(prompt)\n",
    "        return res.content\n",
    "\n",
    "    def get_model_name(self):\n",
    "        return \"Custom Azure OpenAI Model\"\n",
    "\n",
    "# Replace these with real values\n",
    "custom_model = AzureChatOpenAI(\n",
    "    deployment_name=\"gpt-35-turbo\",\n",
    ")\n",
    "azure_openai = AzureOpenAI(model=custom_model)"
   ]
  },
  {
   "cell_type": "markdown",
   "metadata": {},
   "source": []
  },
  {
   "cell_type": "code",
   "execution_count": 8,
   "metadata": {},
   "outputs": [],
   "source": [
    "from deepeval.test_case import LLMTestCase\n",
    "\n",
    "messages = [\n",
    "    LLMTestCase(\n",
    "        input=\"\",\n",
    "        actual_output=\"Hello! I'm here to assist you with opening a new bank account. To start, may I have your full name, please?\"\n",
    "    ),\n",
    "    LLMTestCase(\n",
    "        input=\"Sure, it's Alex Johnson. I also have a dog called Jacky.\",\n",
    "        actual_output=\"Great, Alex! Now, could you please provide your current address?\"\n",
    "    ),\n",
    "    LLMTestCase(\n",
    "        input=\"123 Maple Street, Springfield.\",\n",
    "        actual_output=\"Is that all?\"\n",
    "    ),\n",
    "    LLMTestCase(\n",
    "        input=\"I also have another address at 123 Broadway, NYC.\",\n",
    "        actual_output=\"Wonderful. Next, I'll need your bank account number where we can link this new account.\"\n",
    "    ),\n",
    "    LLMTestCase(\n",
    "        input=\"456789123\",\n",
    "        actual_output=\"This account number seems invalid, can you please double-check?\"\n",
    "    ),\n",
    "    LLMTestCase(\n",
    "        input=\"Sorry you're right, its 456789124.\",\n",
    "        actual_output=\"Thank you. And for our next step, could you tell me your date of birth?\"\n",
    "    ),\n",
    "    LLMTestCase(\n",
    "        input=\"It's July 9th.\",\n",
    "        actual_output=\"What about the year?\"\n",
    "    ),\n",
    "    LLMTestCase(\n",
    "        input=\"1990\",\n",
    "        actual_output=\"Got it. Now, for security purposes, could you share your mother's maiden name?\"\n",
    "    ),\n",
    "    LLMTestCase(\n",
    "        input=\"It's Smith.\",\n",
    "        actual_output=\"Excellent. Just a few more details. What is your phone number?\"\n",
    "    ),\n",
    "    LLMTestCase(\n",
    "        input=\"555-0102\",\n",
    "        actual_output=\"Great, we're almost done. Could you remind me of your full name for the account documentation?\"\n",
    "    ),\n",
    "    LLMTestCase(\n",
    "        input=\"Didn't I tell you already? It's Alex Johnson.\",\n",
    "        actual_output=\"What is your bank account number?\"\n",
    "    ),\n",
    "    LLMTestCase(\n",
    "        input=\"Yes, I did... It's 456789124. Are you not keeping track of this?\",\n",
    "        actual_output=\"One last question, what is the country code of your phone number?\"\n",
    "    ),\n",
    "    LLMTestCase(\n",
    "        input=\"+44\",\n",
    "        actual_output=\"Thank you, Alex, for bearing with me. We now have all the information we need to proceed with opening your new bank account. I appreciate your cooperation and patience throughout this process.\"\n",
    "    )\n",
    "]"
   ]
  },
  {
   "cell_type": "code",
   "execution_count": 10,
   "metadata": {},
   "outputs": [
    {
     "data": {
      "application/vnd.jupyter.widget-view+json": {
       "model_id": "c9171a54aa9d459f88e6014eb225b793",
       "version_major": 2,
       "version_minor": 0
      },
      "text/plain": [
       "Output()"
      ]
     },
     "metadata": {},
     "output_type": "display_data"
    },
    {
     "data": {
      "text/html": [
       "<pre style=\"white-space:pre;overflow-x:auto;line-height:normal;font-family:Menlo,'DejaVu Sans Mono',consolas,'Courier New',monospace\"></pre>\n"
      ],
      "text/plain": []
     },
     "metadata": {},
     "output_type": "display_data"
    },
    {
     "data": {
      "text/html": [
       "<pre style=\"white-space:pre;overflow-x:auto;line-height:normal;font-family:Menlo,'DejaVu Sans Mono',consolas,'Courier New',monospace\">\n",
       "</pre>\n"
      ],
      "text/plain": [
       "\n"
      ]
     },
     "metadata": {},
     "output_type": "display_data"
    },
    {
     "name": "stdout",
     "output_type": "stream",
     "text": [
      "0.6153846153846154\n",
      "The knowledge retention score is 0.62 because the LLM response highlights forgetfulness by repeatedly asking for information that has already been provided earlier in the conversation, such as the bank account number, mother's maiden name, phone number, and full name. Despite the LLM suggesting that all necessary information has been provided, it is clear that key details are being overlooked or forgotten.\n"
     ]
    }
   ],
   "source": [
    "from deepeval.metrics import KnowledgeRetentionMetric\n",
    "from deepeval.test_case import ConversationalTestCase\n",
    "\n",
    "test_case = ConversationalTestCase(messages=messages)\n",
    "metric = KnowledgeRetentionMetric(threshold=0, model = azure_openai)\n",
    "\n",
    "metric.measure(test_case)\n",
    "print(metric.score)\n",
    "print(metric.reason)"
   ]
  },
  {
   "cell_type": "markdown",
   "metadata": {},
   "source": [
    "There are three optional parameters when creating a KnowledgeRetentionMetric:\n",
    "\n",
    "- [Optional] threshold: a float representing the maximum passing threshold, defaulted to 0.5.\n",
    "- [Optional] model: a string specifying which of OpenAI's GPT models to use, OR any custom LLM model of type DeepEvalBaseLLM. Defaulted to 'gpt-4o'.\n",
    "- [Optional] include_reason: a boolean which when set to True, will include a reason for its evaluation score. Defaulted to True.\n",
    "- [Optional] strict_mode: a boolean which when set to True, enforces a binary metric score: 1 for perfection, 0 otherwise. It also overrides the current threshold and sets it to 0. Defaulted to False."
   ]
  },
  {
   "cell_type": "markdown",
   "metadata": {},
   "source": [
    "### How Is It Calculated?\n",
    "\n",
    "Knowledge Retention = Number of Messages without Knowledge Attritions/Total Number of Messages\n",
    "\n",
    "KnowledgeRetentionMetric จะใช้ LLM ในการสกัด knowledge จาก message ก่อนที่จะใช้ LLM เดียวกันเพื่อพิจารณาว่าคำตอบของ LLM ที่สอดคล้องกับแต่ละรายการเพื่อหาว่าสามารถรู้จำบริบทเดิมได้หรือไม่\n",
    "\n",
    "Note : metric นี้เป็นเพียงแค่ beta version"
   ]
  }
 ],
 "metadata": {
  "kernelspec": {
   "display_name": "Python 3 (ipykernel)",
   "language": "python",
   "name": "python3"
  },
  "language_info": {
   "codemirror_mode": {
    "name": "ipython",
    "version": 3
   },
   "file_extension": ".py",
   "mimetype": "text/x-python",
   "name": "python",
   "nbconvert_exporter": "python",
   "pygments_lexer": "ipython3",
   "version": "3.9.19"
  }
 },
 "nbformat": 4,
 "nbformat_minor": 2
}
