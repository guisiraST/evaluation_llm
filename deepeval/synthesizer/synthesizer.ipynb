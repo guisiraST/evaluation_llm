{
 "cells": [
  {
   "cell_type": "markdown",
   "metadata": {},
   "source": [
    "# Synthesizer"
   ]
  },
  {
   "cell_type": "markdown",
   "metadata": {},
   "source": [
    "Synthesizer ใช่เพื่อสำหรับการ generate data เพื่อ evaluation โดยใช้ LLM ในการ generate input "
   ]
  },
  {
   "cell_type": "code",
   "execution_count": null,
   "metadata": {},
   "outputs": [],
   "source": [
    "import sys\n",
    "sys.path.append('/opt/project/src/evaluate_llm/')\n",
    "from api_key_config import settings"
   ]
  },
  {
   "cell_type": "code",
   "execution_count": 1,
   "metadata": {},
   "outputs": [
    {
     "name": "stderr",
     "output_type": "stream",
     "text": [
      "/usr/local/lib/python3.9/site-packages/deepeval/__init__.py:42: UserWarning: You are using deepeval version 0.21.42, however version 0.21.45 is available. You should consider upgrading via the \"pip install --upgrade deepeval\" command.\n",
      "  warnings.warn(\n"
     ]
    }
   ],
   "source": [
    "from langchain_openai import AzureChatOpenAI\n",
    "from deepeval.models.base_model import DeepEvalBaseLLM\n",
    "\n",
    "class AzureOpenAI(DeepEvalBaseLLM):\n",
    "    def __init__(\n",
    "        self,\n",
    "        model\n",
    "    ):\n",
    "        self.model = model\n",
    "\n",
    "    def load_model(self):\n",
    "        return self.model\n",
    "\n",
    "    def generate(self, prompt: str) -> str:\n",
    "        chat_model = self.load_model()\n",
    "        return chat_model.invoke(prompt).content\n",
    "\n",
    "    async def a_generate(self, prompt: str) -> str:\n",
    "        chat_model = self.load_model()\n",
    "        res = await chat_model.ainvoke(prompt)\n",
    "        return res.content\n",
    "\n",
    "    def get_model_name(self):\n",
    "        return \"Custom Azure OpenAI Model\"\n",
    "\n",
    "# Replace these with real values\n",
    "custom_model = AzureChatOpenAI(\n",
    "    openai_api_version=settings.OPENAI_API_VERSION,\n",
    "    azure_deployment=\"gpt-35-turbo\",\n",
    "    azure_endpoint=settings.AZURE_OPENAI_ENDPOINT,\n",
    "    openai_api_key=settings.OPENAI_API_KEY,\n",
    ")\n",
    "azure_openai = AzureOpenAI(model=custom_model)"
   ]
  },
  {
   "cell_type": "markdown",
   "metadata": {},
   "source": [
    "การใช้ synthesizer จะแบ่งออกเป็น 2 รูปแบบ\n",
    "1. สร้างจาก context ที่ถูก extract จาก document \n",
    "2. สร้าง list ที่ provide context ให้ "
   ]
  },
  {
   "cell_type": "markdown",
   "metadata": {},
   "source": [
    "### Generating From Documents"
   ]
  },
  {
   "cell_type": "markdown",
   "metadata": {},
   "source": [
    "พารามิเตอร์ generate_goldens_from_docs :\n",
    "- document_paths\n",
    "- include_expected_output ต้องการให้สร้างคำตอบไหม default = Fasle \n",
    "- max_goldens_per_document จำนวนจุดข้อมูล golden point ที่จะสร้างสำหรับแต่ละเอกสาร\n",
    "- chunk_size\n",
    "- chunk_overlap\n",
    "- num_evolutions ควบคุมความซับซ้อนและความหลากหลายของชุดข้อมูลที่สร้างขึ้นโดยการปรับปรุงและพัฒนาอินพุตเริ่มต้นซ้ำๆ default 1\n",
    "- enable_breadth_evolve เมื่อตั้งค่าเป็น True จะทำให้เกิดการปรับเปลี่ยนบริบทที่หลากหลายมากขึ้น ซึ่งช่วยเพิ่มความหลากหลายของชุดข้อมูล"
   ]
  },
  {
   "cell_type": "code",
   "execution_count": null,
   "metadata": {},
   "outputs": [],
   "source": [
    "from deepeval.synthesizer import Synthesizer\n",
    "\n",
    "synthesizer = Synthesizer()\n",
    "synthesizer.generate_goldens_from_docs(\n",
    "    document_paths=['example.txt', 'example.docx', 'example.pdf'],\n",
    "    max_goldens_per_document=2\n",
    ")"
   ]
  },
  {
   "cell_type": "markdown",
   "metadata": {},
   "source": [
    "### Generating From Provided Contexts"
   ]
  },
  {
   "cell_type": "markdown",
   "metadata": {},
   "source": [
    "พารามิเตอร์ของ generate_goldens :\n",
    "- contexts: รายการของบริบท ซึ่งแต่ละบริบทเป็นรายการของสตริงที่ควรมีธีมหรือพื้นที่เนื้อหาที่เหมือนกัน\n",
    "- [ตัวเลือก] include_expected_output: เมื่อกำหนดเป็น True จะสร้าง expected_output สำหรับแต่ละ synthetic Golden เพิ่มเติม ค่าเริ่มต้นคือ False\n",
    "- [ตัวเลือก] max_goldens_per_context: จำนวนสูงสุดของจุดข้อมูล golden ที่จะสร้างจากแต่ละบริบท การปรับพารามิเตอร์นี้สามารถมีผลต่อขนาดของชุดข้อมูลที่ได้ ค่าเริ่มต้นคือ 2\n",
    "- [ตัวเลือก] num_evolutions: จำนวนขั้นตอน evolution ที่จะใช้กับอินพุตที่สร้างแต่ละอัน พารามิเตอร์นี้ควบคุมความซับซ้อนและความหลากหลายของชุดข้อมูลที่สร้างโดยการปรับแต่งและวิวัฒนาการอินพุตเริ่มต้นซ้ำ ๆ ค่าเริ่มต้นคือ 1\n",
    "- [ตัวเลือก] enable_breadth_evolve: ระบุว่าจะเปิดใช้งาน breadth evolution strategies ระหว่างการสร้างข้อมูลหรือไม่ เมื่อกำหนดเป็น True จะมีการนำการแก้ไขบริบทที่หลากหลายมากขึ้นมาใช้ เพิ่มความหลากหลายของชุดข้อมูล ค่าเริ่มต้นคือ False\n"
   ]
  },
  {
   "cell_type": "code",
   "execution_count": 4,
   "metadata": {},
   "outputs": [
    {
     "data": {
      "application/vnd.jupyter.widget-view+json": {
       "model_id": "ee689dd399f843bd8c89d74eed18e82e",
       "version_major": 2,
       "version_minor": 0
      },
      "text/plain": [
       "Output()"
      ]
     },
     "metadata": {},
     "output_type": "display_data"
    },
    {
     "data": {
      "text/html": [
       "<pre style=\"white-space:pre;overflow-x:auto;line-height:normal;font-family:Menlo,'DejaVu Sans Mono',consolas,'Courier New',monospace\"></pre>\n"
      ],
      "text/plain": []
     },
     "metadata": {},
     "output_type": "display_data"
    },
    {
     "data": {
      "text/html": [
       "<pre style=\"white-space:pre;overflow-x:auto;line-height:normal;font-family:Menlo,'DejaVu Sans Mono',consolas,'Courier New',monospace\">\n",
       "</pre>\n"
      ],
      "text/plain": [
       "\n"
      ]
     },
     "metadata": {},
     "output_type": "display_data"
    },
    {
     "data": {
      "text/plain": [
       "[Golden(input='What celestial body does the Earth revolve around in our solar system?', actual_output=None, expected_output='The Earth revolves around the Sun in our solar system.', context=['The Earth revolves around the Sun.', 'Planets are celestial bodies.'], retrieval_context=None, additional_metadata=None, comments=None, source_file=None),\n",
       " Golden(input=\"What are the implications of the Earth's orbit around the Sun on the celestial bodies in the solar system?\", actual_output=None, expected_output=\"The Earth's orbit around the Sun affects the motion of other celestial bodies in the solar system.\", context=['The Earth revolves around the Sun.', 'Planets are celestial bodies.'], retrieval_context=None, additional_metadata=None, comments=None, source_file=None),\n",
       " Golden(input='How does the freezing point of water compare to its chemical formula?', actual_output=None, expected_output='The freezing point of water is 0 degrees Celsius, and its chemical formula is H2O.', context=['Water freezes at 0 degrees Celsius.', 'The chemical formula for water is H2O.'], retrieval_context=None, additional_metadata=None, comments=None, source_file=None),\n",
       " Golden(input='Imagine a world where all water sources suddenly froze. How would this impact ecosystems and human survival?', actual_output=None, expected_output='If all water sources suddenly froze, it would have a catastrophic impact on ecosystems and human survival. Water is essential for all living organisms, and without it, ecosystems would collapse and humans would struggle to survive.', context=['Water freezes at 0 degrees Celsius.', 'The chemical formula for water is H2O.'], retrieval_context=None, additional_metadata=None, comments=None, source_file=None)]"
      ]
     },
     "execution_count": 4,
     "metadata": {},
     "output_type": "execute_result"
    }
   ],
   "source": [
    "from deepeval.synthesizer import Synthesizer\n",
    "\n",
    "synthesizer = Synthesizer(model = azure_openai)\n",
    "synthesizer.generate_goldens(\n",
    "    # Provide a list of context for synthetic data generation\n",
    "    contexts=[\n",
    "        [\"The Earth revolves around the Sun.\", \"Planets are celestial bodies.\"],\n",
    "        [\"Water freezes at 0 degrees Celsius.\", \"The chemical formula for water is H2O.\"],\n",
    "    ],\n",
    "    include_expected_output = True,\n",
    "    max_goldens_per_context = 2\n",
    ")"
   ]
  },
  {
   "cell_type": "code",
   "execution_count": null,
   "metadata": {},
   "outputs": [],
   "source": [
    "saved_path = dataset.save_as(\n",
    "    file_type='json',  # or 'csv'\n",
    "    directory=\"./synthetic_data\"\n",
    ")"
   ]
  }
 ],
 "metadata": {
  "kernelspec": {
   "display_name": "Python 3 (ipykernel)",
   "language": "python",
   "name": "python3"
  },
  "language_info": {
   "codemirror_mode": {
    "name": "ipython",
    "version": 3
   },
   "file_extension": ".py",
   "mimetype": "text/x-python",
   "name": "python",
   "nbconvert_exporter": "python",
   "pygments_lexer": "ipython3",
   "version": "3.9.19"
  }
 },
 "nbformat": 4,
 "nbformat_minor": 2
}
