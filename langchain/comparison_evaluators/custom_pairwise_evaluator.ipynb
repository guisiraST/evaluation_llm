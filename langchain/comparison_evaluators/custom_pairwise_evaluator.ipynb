{
 "cells": [
  {
   "cell_type": "markdown",
   "metadata": {},
   "source": [
    "# Custom pairwise evaluator"
   ]
  },
  {
   "cell_type": "code",
   "execution_count": null,
   "metadata": {},
   "outputs": [],
   "source": [
    "import sys\n",
    "sys.path.append('/opt/project/src/evaluate_llm/')\n",
    "from api_key_config import settings\n",
    "import os\n",
    "\n",
    "os.environ[\"OPENAI_API_VERSION\"] = settings.OPENAI_API_VERSION\n",
    "os.environ[\"OPENAI_API_KEY\"] = settings.OPENAI_API_KEY\n",
    "os.environ[\"AZURE_OPENAI_ENDPOINT\"] = settings.AZURE_OPENAI_ENDPOINT"
   ]
  },
  {
   "cell_type": "code",
   "execution_count": null,
   "metadata": {},
   "outputs": [],
   "source": [
    "from langchain_openai import AzureChatOpenAI\n",
    "\n",
    "llm = AzureChatOpenAI(deployment_name=\"gpt-35-turbo\")"
   ]
  },
  {
   "cell_type": "code",
   "execution_count": null,
   "metadata": {},
   "outputs": [],
   "source": [
    "from typing import Any, Optional\n",
    "\n",
    "from langchain.evaluation import PairwiseStringEvaluator\n",
    "\n",
    "\n",
    "class LengthComparisonPairwiseEvaluator(PairwiseStringEvaluator):\n",
    "    \"\"\"\n",
    "    Custom evaluator to compare two strings.\n",
    "    \"\"\"\n",
    "\n",
    "    def _evaluate_string_pairs(\n",
    "        self,\n",
    "        *,\n",
    "        prediction: str,\n",
    "        prediction_b: str,\n",
    "        reference: Optional[str] = None,\n",
    "        input: Optional[str] = None,\n",
    "        **kwargs: Any,\n",
    "    ) -> dict:\n",
    "        score = int(len(prediction.split()) > len(prediction_b.split()))\n",
    "        return {\"score\": score}"
   ]
  },
  {
   "cell_type": "code",
   "execution_count": null,
   "metadata": {},
   "outputs": [],
   "source": [
    "evaluator = LengthComparisonPairwiseEvaluator()\n",
    "\n",
    "evaluator.evaluate_string_pairs(\n",
    "    prediction=\"The quick brown fox jumped over the lazy dog.\",\n",
    "    prediction_b=\"The quick brown fox jumped over the dog.\",\n",
    ")"
   ]
  }
 ],
 "metadata": {
  "language_info": {
   "name": "python"
  }
 },
 "nbformat": 4,
 "nbformat_minor": 2
}
